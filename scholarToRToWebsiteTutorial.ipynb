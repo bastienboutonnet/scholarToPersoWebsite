{
 "cells": [
  {
   "cell_type": "markdown",
   "metadata": {},
   "source": [
    "# Scholar Data 2 Website\n",
    "This tutorial & code pulls data from the google scholar API, and makes an image (along with an optional graph of your citations per year) that can be hosted online (maybe using services like Dropbox or GoogleDrive's public sharing) "
   ]
  },
  {
   "cell_type": "code",
   "execution_count": 1,
   "metadata": {
    "collapsed": false
   },
   "outputs": [
    {
     "data": {
      "text/html": [
       "<table>\n",
       "<thead><tr><th></th><th scope=col>year</th><th scope=col>cites</th></tr></thead>\n",
       "<tbody>\n",
       "\t<tr><th scope=row>1</th><td>2013</td><td>4</td></tr>\n",
       "\t<tr><th scope=row>2</th><td>2014</td><td>21</td></tr>\n",
       "\t<tr><th scope=row>3</th><td>2015</td><td>33</td></tr>\n",
       "</tbody>\n",
       "</table>\n"
      ],
      "text/latex": [
       "\\begin{tabular}{r|ll}\n",
       "  & year & cites\\\\\n",
       "\\hline\n",
       "\t1 & 2013 & 4\\\\\n",
       "\t2 & 2014 & 21\\\\\n",
       "\t3 & 2015 & 33\\\\\n",
       "\\end{tabular}\n"
      ],
      "text/plain": [
       "  year cites\n",
       "1 2013     4\n",
       "2 2014    21\n",
       "3 2015    33"
      ]
     },
     "execution_count": 1,
     "metadata": {},
     "output_type": "execute_result"
    }
   ],
   "source": [
    "library(scholar)\n",
    "\n",
    "his=get_citation_history('qZLGnroAAAAJ')\n",
    "his"
   ]
  }
 ],
 "metadata": {
  "kernelspec": {
   "display_name": "R",
   "language": "R",
   "name": "ir"
  },
  "language_info": {
   "codemirror_mode": "r",
   "file_extension": ".r",
   "mimetype": "text/x-r-source",
   "name": "R",
   "pygments_lexer": "r",
   "version": "3.2.2"
  }
 },
 "nbformat": 4,
 "nbformat_minor": 0
}
