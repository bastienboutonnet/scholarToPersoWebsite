{
 "cells": [
  {
   "cell_type": "markdown",
   "metadata": {},
   "source": [
    "**TODO:**\n",
    "- check which of the grid packages I can get out of the equation\n",
    "\n",
    "# Scholar Data 2 Website (or WordPress blog) with R \n",
    "This tutorial & code pulls data from the google scholar API, and makes an image (along with an optional graph of your citations per year) that can be hosted online (maybe using services like Dropbox or GoogleDrive's public sharing).\n",
    "\n",
    "This tutorial is based on an R-bloggers post by XXX with some **graphical changes *and* the ability to display a bit more of useful info.**\n",
    "\n",
    "## What you need\n",
    "- a google scholar profile (e.g., INSERT MY GSCHOLAR PROFILE)\n",
    "- UNIX-based system (e.g., Mac OS X, Linux)\n",
    "- R (R Website) \n",
    "- crontab\n",
    "- R packages:\n",
    "    - `scholar`: convenience functions to get data from scholar API\n",
    "    - `ggplot2`: powerful & flexible plotting package.\n",
    "    - `grid` : package part of the R-base packages, allows graph layout customisations.\n",
    "\n",
    "\n",
    "## `Scholar` R Package\n",
    "James Keirstead, designed a really cool package that interacts with the google scholar API. It pulls data from your scholar profile, like your citation history, and it also contains a cool function to predict your h-index based on the [Acuna et al. (2012)](http://www.nature.com/nature/journal/v489/n7415/full/489201a.html) model which is fine tuned for neuroscience. You can find more info about the R package and its functions on [James' blog](http://www.jameskeirstead.ca/blog/new-r-package-scholar/).\n",
    "\n",
    "### 1. Getting data from a profile\n",
    "First, you need to know your **Researcher ID** that google arbitrarily created for you when you made your profile.\n",
    "\n",
    "For example this is the URL to the profile of a really cool researcher called Andy Clark. As an aside this researcher has a really interesting view on how the human brain function that is worth checking out if you're interested.\n",
    "Anyway, back to the URL to his profile: https://scholar.google.co.uk/citations?user=FYrnmlIAAAAJ&hl=en.    \n",
    "If you look at the URL there is an arbitrary looking string of characters just after `user=` and it stops at the `&` for Andy's profile it's `FYrnmlIAAAAJ`.\n",
    "\n",
    "#### 1.1. Profile"
   ]
  },
  {
   "cell_type": "code",
   "execution_count": 3,
   "metadata": {
    "collapsed": false
   },
   "outputs": [
    {
     "data": {
      "text/html": [
       "<dl>\n",
       "\t<dt>$id</dt>\n",
       "\t\t<dd>'FYrnmlIAAAAJ'</dd>\n",
       "\t<dt>$name</dt>\n",
       "\t\t<dd>'Andy Clark'</dd>\n",
       "\t<dt>$affiliation</dt>\n",
       "\t\t<dd>'University of Edinburgh'</dd>\n",
       "\t<dt>$total_cites</dt>\n",
       "\t\t<dd>21866</dd>\n",
       "\t<dt>$h_index</dt>\n",
       "\t\t<dd>51</dd>\n",
       "\t<dt>$i10_index</dt>\n",
       "\t\t<dd>112</dd>\n",
       "\t<dt>$fields</dt>\n",
       "\t\t<dd>'philosophy of cognitive science'</dd>\n",
       "\t<dt>$homepage</dt>\n",
       "\t\t<dd>'http://www.philosophy.ed.ac.uk/people/view.php?name=andy-clark-frse'</dd>\n",
       "</dl>\n"
      ],
      "text/latex": [
       "\\begin{description}\n",
       "\\item[\\$id] 'FYrnmlIAAAAJ'\n",
       "\\item[\\$name] 'Andy Clark'\n",
       "\\item[\\$affiliation] 'University of Edinburgh'\n",
       "\\item[\\$total_cites] 21866\n",
       "\\item[\\$h_index] 51\n",
       "\\item[\\$i10_index] 112\n",
       "\\item[\\$fields] 'philosophy of cognitive science'\n",
       "\\item[\\$homepage] 'http://www.philosophy.ed.ac.uk/people/view.php?name=andy-clark-frse'\n",
       "\\end{description}\n"
      ],
      "text/markdown": [
       "$id\n",
       ":   'FYrnmlIAAAAJ'\n",
       "$name\n",
       ":   'Andy Clark'\n",
       "$affiliation\n",
       ":   'University of Edinburgh'\n",
       "$total_cites\n",
       ":   21866\n",
       "$h_index\n",
       ":   51\n",
       "$i10_index\n",
       ":   112\n",
       "$fields\n",
       ":   'philosophy of cognitive science'\n",
       "$homepage\n",
       ":   'http://www.philosophy.ed.ac.uk/people/view.php?name=andy-clark-frse'\n",
       "\n",
       "\n"
      ],
      "text/plain": [
       "$id\n",
       "[1] \"FYrnmlIAAAAJ\"\n",
       "\n",
       "$name\n",
       "[1] \"Andy Clark\"\n",
       "\n",
       "$affiliation\n",
       "[1] \"University of Edinburgh\"\n",
       "\n",
       "$total_cites\n",
       "[1] 21866\n",
       "\n",
       "$h_index\n",
       "[1] 51\n",
       "\n",
       "$i10_index\n",
       "[1] 112\n",
       "\n",
       "$fields\n",
       "[1] \"philosophy of cognitive science\"\n",
       "\n",
       "$homepage\n",
       "[1] \"http://www.philosophy.ed.ac.uk/people/view.php?name=andy-clark-frse\"\n"
      ]
     },
     "execution_count": 3,
     "metadata": {},
     "output_type": "execute_result"
    }
   ],
   "source": [
    "#load the package first otherwise R won't be able to find the functions later.\n",
    "library(scholar)\n",
    "\n",
    "#load your profile data FYrnmlIAAAAJ\n",
    "profile=get_profile('FYrnmlIAAAAJ')\n",
    "\n",
    "#look at the information you pulled out\n",
    "profile"
   ]
  },
  {
   "cell_type": "markdown",
   "metadata": {},
   "source": [
    "As you can see, the function has pulled out all the information that you could see on the google page, and it has stored them in sub fields so that you can easily access **just** the *number of citations* or his *h-index* etc."
   ]
  },
  {
   "cell_type": "code",
   "execution_count": 4,
   "metadata": {
    "collapsed": false
   },
   "outputs": [
    {
     "data": {
      "text/html": [
       "21866"
      ],
      "text/latex": [
       "21866"
      ],
      "text/markdown": [
       "21866"
      ],
      "text/plain": [
       "[1] 21866"
      ]
     },
     "execution_count": 4,
     "metadata": {},
     "output_type": "execute_result"
    }
   ],
   "source": [
    "#here's how you get only the total citations\n",
    "profile$total_cites"
   ]
  },
  {
   "cell_type": "code",
   "execution_count": 5,
   "metadata": {
    "collapsed": false
   },
   "outputs": [
    {
     "data": {
      "text/html": [
       "51"
      ],
      "text/latex": [
       "51"
      ],
      "text/markdown": [
       "51"
      ],
      "text/plain": [
       "[1] 51"
      ]
     },
     "execution_count": 5,
     "metadata": {},
     "output_type": "execute_result"
    }
   ],
   "source": [
    "#here's how you get the h-index\n",
    "profile$h_index"
   ]
  },
  {
   "cell_type": "markdown",
   "metadata": {},
   "source": [
    "#### 1.2. Citation history\n",
    "You may also be interested in reproducing the graph that google generates with your citation history. For this we will use the function `get_citation_history()`. We now have an object that contains citations per year."
   ]
  },
  {
   "cell_type": "code",
   "execution_count": 6,
   "metadata": {
    "collapsed": false
   },
   "outputs": [
    {
     "data": {
      "text/html": [
       "<table>\n",
       "<thead><tr><th></th><th scope=col>year</th><th scope=col>cites</th></tr></thead>\n",
       "<tbody>\n",
       "\t<tr><th scope=row>1</th><td>2007</td><td>1079</td></tr>\n",
       "\t<tr><th scope=row>2</th><td>2008</td><td>1382</td></tr>\n",
       "\t<tr><th scope=row>3</th><td>2009</td><td>1320</td></tr>\n",
       "\t<tr><th scope=row>4</th><td>2010</td><td>1574</td></tr>\n",
       "\t<tr><th scope=row>5</th><td>2011</td><td>1564</td></tr>\n",
       "\t<tr><th scope=row>6</th><td>2012</td><td>1671</td></tr>\n",
       "\t<tr><th scope=row>7</th><td>2013</td><td>2604</td></tr>\n",
       "\t<tr><th scope=row>8</th><td>2014</td><td>2192</td></tr>\n",
       "\t<tr><th scope=row>9</th><td>2015</td><td>1679</td></tr>\n",
       "</tbody>\n",
       "</table>\n"
      ],
      "text/latex": [
       "\\begin{tabular}{r|ll}\n",
       "  & year & cites\\\\\n",
       "\\hline\n",
       "\t1 & 2007 & 1079\\\\\n",
       "\t2 & 2008 & 1382\\\\\n",
       "\t3 & 2009 & 1320\\\\\n",
       "\t4 & 2010 & 1574\\\\\n",
       "\t5 & 2011 & 1564\\\\\n",
       "\t6 & 2012 & 1671\\\\\n",
       "\t7 & 2013 & 2604\\\\\n",
       "\t8 & 2014 & 2192\\\\\n",
       "\t9 & 2015 & 1679\\\\\n",
       "\\end{tabular}\n"
      ],
      "text/plain": [
       "  year cites\n",
       "1 2007  1079\n",
       "2 2008  1382\n",
       "3 2009  1320\n",
       "4 2010  1574\n",
       "5 2011  1564\n",
       "6 2012  1671\n",
       "7 2013  2604\n",
       "8 2014  2192\n",
       "9 2015  1679"
      ]
     },
     "execution_count": 6,
     "metadata": {},
     "output_type": "execute_result"
    }
   ],
   "source": [
    "history=get_citation_history('FYrnmlIAAAAJ')\n",
    "history"
   ]
  },
  {
   "cell_type": "code",
   "execution_count": null,
   "metadata": {
    "collapsed": true
   },
   "outputs": [],
   "source": []
  }
 ],
 "metadata": {
  "kernelspec": {
   "display_name": "R",
   "language": "R",
   "name": "ir"
  },
  "language_info": {
   "codemirror_mode": "r",
   "file_extension": ".r",
   "mimetype": "text/x-r-source",
   "name": "R",
   "pygments_lexer": "r",
   "version": "3.2.2"
  }
 },
 "nbformat": 4,
 "nbformat_minor": 0
}
