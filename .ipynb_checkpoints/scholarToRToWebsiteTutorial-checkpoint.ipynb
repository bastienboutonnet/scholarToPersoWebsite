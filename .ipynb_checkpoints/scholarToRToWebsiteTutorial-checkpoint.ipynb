{
 "cells": [
  {
   "cell_type": "markdown",
   "metadata": {},
   "source": [
    "# Scholar Data 2 Website\n",
    "This tutorial & code pulls data from the google scholar API, and makes an image (along with an optional graph of your citations per year) that you can host online (maybe using services like Dropbox or GoogleDrive's publish sharing"
   ]
  }
 ],
 "metadata": {
  "kernelspec": {
   "display_name": "R",
   "language": "R",
   "name": "ir"
  },
  "language_info": {
   "codemirror_mode": "r",
   "file_extension": ".r",
   "mimetype": "text/x-r-source",
   "name": "R",
   "pygments_lexer": "r",
   "version": "3.2.2"
  }
 },
 "nbformat": 4,
 "nbformat_minor": 0
}
