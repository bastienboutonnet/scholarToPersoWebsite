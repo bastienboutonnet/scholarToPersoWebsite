{
 "cells": [
  {
   "cell_type": "markdown",
   "metadata": {},
   "source": [
    "**TODO:**\n",
    "- check which of the grid packages I can get out of the equation\n",
    "\n",
    "# Scholar Data 2 Website (or WordPress blog) with R \n",
    "This tutorial & code pulls data from the google scholar API, and makes an image (along with an optional graph of your citations per year) that can be hosted online (maybe using services like Dropbox or GoogleDrive's public sharing).\n",
    "\n",
    "This tutorial is based on an R-bloggers post by XXX with some **graphical changes *and* the ability to display a bit more of useful info.**\n",
    "\n",
    "## What you need\n",
    "- a google scholar profile (e.g., INSERT MY GSCHOLAR PROFILE)\n",
    "- UNIX-based system (e.g., Mac OS X, Linux)\n",
    "- R (R Website) \n",
    "- crontab\n",
    "- R packages:\n",
    "    - `scholar`: convenience functions to get data from scholar API\n",
    "    - `ggplot2`: powerful & flexible plotting package.\n",
    "    - `grid` : package part of the R-base packages, allows graph layout customisations.\n",
    "\n",
    "\n",
    "## `Scholar` R Package\n",
    "James Keirstead, designed a really cool package that interacts with the google scholar API. It pulls data from your scholar profile, like your citation history, and it also contains a cool function to predict your h-index based on the [Acuna et al. (2012)](http://www.nature.com/nature/journal/v489/n7415/full/489201a.html) model which is fine tuned for neuroscience. You can find more info about the R package and its functions on [James' blog](http://www.jameskeirstead.ca/blog/new-r-package-scholar/).\n",
    "\n",
    "### 1. Getting data from a profile\n",
    "First, you need to know your **Researcher ID** that google arbitrarily created for you when you made your profile.\n",
    "\n",
    "For example this is the URL to the profile of a really cool philosopher/psychologist called [Andy Clark](https://en.wikipedia.org/wiki/Andy_Clark). As an aside this researcher has a really interesting view on how the human brain function that is worth checking out if you're interested.\n",
    "Anyway, back to the URL to his profile: https://scholar.google.co.uk/citations?user=FYrnmlIAAAAJ&hl=en.    \n",
    "If you look at the URL there is an arbitrary looking string of characters just after `user=` and it stops at the `&` for Andy's profile it's `FYrnmlIAAAAJ`.\n",
    "\n",
    "#### 1.1. Profile"
   ]
  },
  {
   "cell_type": "code",
   "execution_count": 3,
   "metadata": {
    "collapsed": false
   },
   "outputs": [
    {
     "data": {
      "text/html": [
       "<dl>\n",
       "\t<dt>$id</dt>\n",
       "\t\t<dd>'FYrnmlIAAAAJ'</dd>\n",
       "\t<dt>$name</dt>\n",
       "\t\t<dd>'Andy Clark'</dd>\n",
       "\t<dt>$affiliation</dt>\n",
       "\t\t<dd>'University of Edinburgh'</dd>\n",
       "\t<dt>$total_cites</dt>\n",
       "\t\t<dd>21866</dd>\n",
       "\t<dt>$h_index</dt>\n",
       "\t\t<dd>51</dd>\n",
       "\t<dt>$i10_index</dt>\n",
       "\t\t<dd>112</dd>\n",
       "\t<dt>$fields</dt>\n",
       "\t\t<dd>'philosophy of cognitive science'</dd>\n",
       "\t<dt>$homepage</dt>\n",
       "\t\t<dd>'http://www.philosophy.ed.ac.uk/people/view.php?name=andy-clark-frse'</dd>\n",
       "</dl>\n"
      ],
      "text/latex": [
       "\\begin{description}\n",
       "\\item[\\$id] 'FYrnmlIAAAAJ'\n",
       "\\item[\\$name] 'Andy Clark'\n",
       "\\item[\\$affiliation] 'University of Edinburgh'\n",
       "\\item[\\$total_cites] 21866\n",
       "\\item[\\$h_index] 51\n",
       "\\item[\\$i10_index] 112\n",
       "\\item[\\$fields] 'philosophy of cognitive science'\n",
       "\\item[\\$homepage] 'http://www.philosophy.ed.ac.uk/people/view.php?name=andy-clark-frse'\n",
       "\\end{description}\n"
      ],
      "text/markdown": [
       "$id\n",
       ":   'FYrnmlIAAAAJ'\n",
       "$name\n",
       ":   'Andy Clark'\n",
       "$affiliation\n",
       ":   'University of Edinburgh'\n",
       "$total_cites\n",
       ":   21866\n",
       "$h_index\n",
       ":   51\n",
       "$i10_index\n",
       ":   112\n",
       "$fields\n",
       ":   'philosophy of cognitive science'\n",
       "$homepage\n",
       ":   'http://www.philosophy.ed.ac.uk/people/view.php?name=andy-clark-frse'\n",
       "\n",
       "\n"
      ],
      "text/plain": [
       "$id\n",
       "[1] \"FYrnmlIAAAAJ\"\n",
       "\n",
       "$name\n",
       "[1] \"Andy Clark\"\n",
       "\n",
       "$affiliation\n",
       "[1] \"University of Edinburgh\"\n",
       "\n",
       "$total_cites\n",
       "[1] 21866\n",
       "\n",
       "$h_index\n",
       "[1] 51\n",
       "\n",
       "$i10_index\n",
       "[1] 112\n",
       "\n",
       "$fields\n",
       "[1] \"philosophy of cognitive science\"\n",
       "\n",
       "$homepage\n",
       "[1] \"http://www.philosophy.ed.ac.uk/people/view.php?name=andy-clark-frse\"\n"
      ]
     },
     "execution_count": 3,
     "metadata": {},
     "output_type": "execute_result"
    }
   ],
   "source": [
    "#load the package first otherwise R won't be able to find the functions later.\n",
    "library(scholar)\n",
    "\n",
    "#load your profile data FYrnmlIAAAAJ\n",
    "profile=get_profile('FYrnmlIAAAAJ')\n",
    "\n",
    "#look at the information you pulled out\n",
    "profile"
   ]
  },
  {
   "cell_type": "markdown",
   "metadata": {},
   "source": [
    "As you can see, the function has pulled out all the information that you could see on the google page, and it has stored them in sub fields so that you can easily access **just** the *number of citations* or his *h-index* etc."
   ]
  },
  {
   "cell_type": "code",
   "execution_count": 4,
   "metadata": {
    "collapsed": false
   },
   "outputs": [
    {
     "data": {
      "text/html": [
       "21866"
      ],
      "text/latex": [
       "21866"
      ],
      "text/markdown": [
       "21866"
      ],
      "text/plain": [
       "[1] 21866"
      ]
     },
     "execution_count": 4,
     "metadata": {},
     "output_type": "execute_result"
    }
   ],
   "source": [
    "#here's how you get only the total citations\n",
    "profile$total_cites"
   ]
  },
  {
   "cell_type": "code",
   "execution_count": 5,
   "metadata": {
    "collapsed": false
   },
   "outputs": [
    {
     "data": {
      "text/html": [
       "51"
      ],
      "text/latex": [
       "51"
      ],
      "text/markdown": [
       "51"
      ],
      "text/plain": [
       "[1] 51"
      ]
     },
     "execution_count": 5,
     "metadata": {},
     "output_type": "execute_result"
    }
   ],
   "source": [
    "#here's how you get the h-index\n",
    "profile$h_index"
   ]
  },
  {
   "cell_type": "markdown",
   "metadata": {},
   "source": [
    "#### 1.2. Citation history\n",
    "You may also be interested in reproducing the graph that google generates with your citation history. For this we will use the function `get_citation_history()`. We now have a neat little table that contains number of citations per year. Grea! So we can reproduce the google plot!"
   ]
  },
  {
   "cell_type": "code",
   "execution_count": 11,
   "metadata": {
    "collapsed": false
   },
   "outputs": [
    {
     "data": {
      "text/html": [
       "<table>\n",
       "<thead><tr><th></th><th scope=col>year</th><th scope=col>cites</th></tr></thead>\n",
       "<tbody>\n",
       "\t<tr><th scope=row>1</th><td>2007</td><td>1079</td></tr>\n",
       "\t<tr><th scope=row>2</th><td>2008</td><td>1382</td></tr>\n",
       "\t<tr><th scope=row>3</th><td>2009</td><td>1320</td></tr>\n",
       "\t<tr><th scope=row>4</th><td>2010</td><td>1574</td></tr>\n",
       "\t<tr><th scope=row>5</th><td>2011</td><td>1564</td></tr>\n",
       "\t<tr><th scope=row>6</th><td>2012</td><td>1671</td></tr>\n",
       "\t<tr><th scope=row>7</th><td>2013</td><td>2604</td></tr>\n",
       "\t<tr><th scope=row>8</th><td>2014</td><td>2192</td></tr>\n",
       "\t<tr><th scope=row>9</th><td>2015</td><td>1679</td></tr>\n",
       "</tbody>\n",
       "</table>\n"
      ],
      "text/latex": [
       "\\begin{tabular}{r|ll}\n",
       "  & year & cites\\\\\n",
       "\\hline\n",
       "\t1 & 2007 & 1079\\\\\n",
       "\t2 & 2008 & 1382\\\\\n",
       "\t3 & 2009 & 1320\\\\\n",
       "\t4 & 2010 & 1574\\\\\n",
       "\t5 & 2011 & 1564\\\\\n",
       "\t6 & 2012 & 1671\\\\\n",
       "\t7 & 2013 & 2604\\\\\n",
       "\t8 & 2014 & 2192\\\\\n",
       "\t9 & 2015 & 1679\\\\\n",
       "\\end{tabular}\n"
      ],
      "text/plain": [
       "  year cites\n",
       "1 2007  1079\n",
       "2 2008  1382\n",
       "3 2009  1320\n",
       "4 2010  1574\n",
       "5 2011  1564\n",
       "6 2012  1671\n",
       "7 2013  2604\n",
       "8 2014  2192\n",
       "9 2015  1679"
      ]
     },
     "execution_count": 11,
     "metadata": {},
     "output_type": "execute_result"
    }
   ],
   "source": [
    "history=get_citation_history('FYrnmlIAAAAJ')\n",
    "history"
   ]
  },
  {
   "cell_type": "markdown",
   "metadata": {},
   "source": [
    "## Plotting Scholar Cites\n",
    "I'm using the `ggplot2` R package. It's one of the most popular graphing packages and is super flexible. I'm going to skip over explaining how ggplot works because there are a million tutorials online."
   ]
  },
  {
   "cell_type": "code",
   "execution_count": 12,
   "metadata": {
    "collapsed": false,
    "scrolled": false
   },
   "outputs": [
    {
     "data": {
      "image/png": "[encoded data removed]",
      "image/svg+xml": [
       "<?xml version=\"1.0\" encoding=\"UTF-8\"?>\n",
       "<svg xmlns=\"http://www.w3.org/2000/svg\" xmlns:xlink=\"http://www.w3.org/1999/xlink\" width=\"360pt\" height=\"216pt\" viewBox=\"0 0 360 216\" version=\"1.1\">\n",
       "<defs>\n",
       "<g>\n",
       "<symbol overflow=\"visible\" id=\"glyph0-0\">\n",
       "<path style=\"stroke:none;\" d=\"M 0.3125 0 L 0.3125 -6.875 L 5.765625 -6.875 L 5.765625 0 Z M 4.90625 -0.859375 L 4.90625 -6.015625 L 1.171875 -6.015625 L 1.171875 -0.859375 Z \"/>\n",
       "</symbol>\n",
       "<symbol overflow=\"visible\" id=\"glyph0-1\">\n",
       "<path style=\"stroke:none;\" d=\"M 2.59375 -6.703125 C 3.457031 -6.703125 4.085938 -6.347656 4.484375 -5.640625 C 4.773438 -5.085938 4.921875 -4.328125 4.921875 -3.359375 C 4.921875 -2.453125 4.785156 -1.695312 4.515625 -1.09375 C 4.128906 -0.238281 3.488281 0.1875 2.59375 0.1875 C 1.78125 0.1875 1.179688 -0.160156 0.796875 -0.859375 C 0.460938 -1.453125 0.296875 -2.238281 0.296875 -3.21875 C 0.296875 -3.976562 0.394531 -4.632812 0.59375 -5.1875 C 0.957031 -6.195312 1.625 -6.703125 2.59375 -6.703125 Z M 2.578125 -0.578125 C 3.015625 -0.578125 3.363281 -0.769531 3.625 -1.15625 C 3.882812 -1.550781 4.015625 -2.273438 4.015625 -3.328125 C 4.015625 -4.085938 3.921875 -4.710938 3.734375 -5.203125 C 3.546875 -5.703125 3.179688 -5.953125 2.640625 -5.953125 C 2.148438 -5.953125 1.789062 -5.71875 1.5625 -5.25 C 1.332031 -4.78125 1.21875 -4.09375 1.21875 -3.1875 C 1.21875 -2.5 1.289062 -1.945312 1.4375 -1.53125 C 1.65625 -0.894531 2.035156 -0.578125 2.578125 -0.578125 Z \"/>\n",
       "</symbol>\n",
       "<symbol overflow=\"visible\" id=\"glyph0-2\">\n",
       "<path style=\"stroke:none;\" d=\"M 0.921875 -4.75 L 0.921875 -5.390625 C 1.523438 -5.453125 1.945312 -5.550781 2.1875 -5.6875 C 2.425781 -5.832031 2.609375 -6.164062 2.734375 -6.6875 L 3.390625 -6.6875 L 3.390625 0 L 2.5 0 L 2.5 -4.75 Z \"/>\n",
       "</symbol>\n",
       "<symbol overflow=\"visible\" id=\"glyph0-3\">\n",
       "<path style=\"stroke:none;\" d=\"M 0.296875 0 C 0.328125 -0.570312 0.445312 -1.070312 0.65625 -1.5 C 0.863281 -1.9375 1.269531 -2.328125 1.875 -2.671875 L 2.765625 -3.1875 C 3.171875 -3.425781 3.457031 -3.628906 3.625 -3.796875 C 3.875 -4.054688 4 -4.351562 4 -4.6875 C 4 -5.070312 3.878906 -5.378906 3.640625 -5.609375 C 3.410156 -5.835938 3.101562 -5.953125 2.71875 -5.953125 C 2.132812 -5.953125 1.734375 -5.734375 1.515625 -5.296875 C 1.398438 -5.066406 1.335938 -4.742188 1.328125 -4.328125 L 0.46875 -4.328125 C 0.476562 -4.910156 0.582031 -5.382812 0.78125 -5.75 C 1.144531 -6.40625 1.789062 -6.734375 2.71875 -6.734375 C 3.488281 -6.734375 4.050781 -6.523438 4.40625 -6.109375 C 4.757812 -5.691406 4.9375 -5.226562 4.9375 -4.71875 C 4.9375 -4.1875 4.75 -3.726562 4.375 -3.34375 C 4.15625 -3.125 3.757812 -2.851562 3.1875 -2.53125 L 2.546875 -2.1875 C 2.242188 -2.019531 2.003906 -1.859375 1.828125 -1.703125 C 1.515625 -1.429688 1.316406 -1.128906 1.234375 -0.796875 L 4.90625 -0.796875 L 4.90625 0 Z \"/>\n",
       "</symbol>\n",
       "<symbol overflow=\"visible\" id=\"glyph0-4\">\n",
       "<path style=\"stroke:none;\" d=\"M 5.015625 -6.59375 L 5.015625 -5.859375 C 4.796875 -5.648438 4.507812 -5.285156 4.15625 -4.765625 C 3.800781 -4.242188 3.484375 -3.6875 3.203125 -3.09375 C 2.929688 -2.507812 2.726562 -1.976562 2.59375 -1.5 C 2.5 -1.1875 2.378906 -0.6875 2.234375 0 L 1.3125 0 C 1.519531 -1.28125 1.988281 -2.554688 2.71875 -3.828125 C 3.144531 -4.566406 3.59375 -5.207031 4.0625 -5.75 L 0.34375 -5.75 L 0.34375 -6.59375 Z \"/>\n",
       "</symbol>\n",
       "<symbol overflow=\"visible\" id=\"glyph0-5\">\n",
       "<path style=\"stroke:none;\" d=\"M 2.609375 -3.890625 C 2.984375 -3.890625 3.273438 -3.992188 3.484375 -4.203125 C 3.691406 -4.410156 3.796875 -4.660156 3.796875 -4.953125 C 3.796875 -5.203125 3.691406 -5.429688 3.484375 -5.640625 C 3.285156 -5.847656 2.984375 -5.953125 2.578125 -5.953125 C 2.171875 -5.953125 1.875 -5.847656 1.6875 -5.640625 C 1.507812 -5.429688 1.421875 -5.1875 1.421875 -4.90625 C 1.421875 -4.59375 1.535156 -4.34375 1.765625 -4.15625 C 2.003906 -3.976562 2.285156 -3.890625 2.609375 -3.890625 Z M 2.65625 -0.578125 C 3.050781 -0.578125 3.375 -0.679688 3.625 -0.890625 C 3.882812 -1.097656 4.015625 -1.414062 4.015625 -1.84375 C 4.015625 -2.269531 3.878906 -2.59375 3.609375 -2.8125 C 3.347656 -3.039062 3.007812 -3.15625 2.59375 -3.15625 C 2.195312 -3.15625 1.867188 -3.039062 1.609375 -2.8125 C 1.359375 -2.582031 1.234375 -2.265625 1.234375 -1.859375 C 1.234375 -1.515625 1.347656 -1.210938 1.578125 -0.953125 C 1.816406 -0.703125 2.175781 -0.578125 2.65625 -0.578125 Z M 1.46875 -3.578125 C 1.226562 -3.671875 1.039062 -3.785156 0.90625 -3.921875 C 0.664062 -4.171875 0.546875 -4.5 0.546875 -4.90625 C 0.546875 -5.40625 0.722656 -5.832031 1.078125 -6.1875 C 1.441406 -6.550781 1.957031 -6.734375 2.625 -6.734375 C 3.269531 -6.734375 3.773438 -6.5625 4.140625 -6.21875 C 4.503906 -5.875 4.6875 -5.476562 4.6875 -5.03125 C 4.6875 -4.613281 4.582031 -4.273438 4.375 -4.015625 C 4.25 -3.867188 4.0625 -3.722656 3.8125 -3.578125 C 4.09375 -3.453125 4.3125 -3.304688 4.46875 -3.140625 C 4.769531 -2.828125 4.921875 -2.421875 4.921875 -1.921875 C 4.921875 -1.335938 4.722656 -0.835938 4.328125 -0.421875 C 3.929688 -0.015625 3.367188 0.1875 2.640625 0.1875 C 1.984375 0.1875 1.429688 0.0078125 0.984375 -0.34375 C 0.535156 -0.695312 0.3125 -1.210938 0.3125 -1.890625 C 0.3125 -2.285156 0.40625 -2.625 0.59375 -2.90625 C 0.789062 -3.195312 1.082031 -3.421875 1.46875 -3.578125 Z \"/>\n",
       "</symbol>\n",
       "<symbol overflow=\"visible\" id=\"glyph0-6\">\n",
       "<path style=\"stroke:none;\" d=\"M 1.28125 -1.625 C 1.300781 -1.15625 1.476562 -0.832031 1.8125 -0.65625 C 1.988281 -0.5625 2.179688 -0.515625 2.390625 -0.515625 C 2.796875 -0.515625 3.140625 -0.679688 3.421875 -1.015625 C 3.703125 -1.347656 3.90625 -2.03125 4.03125 -3.0625 C 3.84375 -2.769531 3.609375 -2.5625 3.328125 -2.4375 C 3.054688 -2.320312 2.757812 -2.265625 2.4375 -2.265625 C 1.789062 -2.265625 1.28125 -2.460938 0.90625 -2.859375 C 0.53125 -3.265625 0.34375 -3.785156 0.34375 -4.421875 C 0.34375 -5.023438 0.523438 -5.554688 0.890625 -6.015625 C 1.265625 -6.484375 1.816406 -6.71875 2.546875 -6.71875 C 3.523438 -6.71875 4.195312 -6.273438 4.5625 -5.390625 C 4.769531 -4.910156 4.875 -4.304688 4.875 -3.578125 C 4.875 -2.753906 4.75 -2.023438 4.5 -1.390625 C 4.09375 -0.335938 3.398438 0.1875 2.421875 0.1875 C 1.765625 0.1875 1.265625 0.015625 0.921875 -0.328125 C 0.585938 -0.671875 0.421875 -1.101562 0.421875 -1.625 Z M 2.546875 -3 C 2.878906 -3 3.1875 -3.109375 3.46875 -3.328125 C 3.75 -3.546875 3.890625 -3.929688 3.890625 -4.484375 C 3.890625 -4.972656 3.765625 -5.335938 3.515625 -5.578125 C 3.265625 -5.828125 2.945312 -5.953125 2.5625 -5.953125 C 2.144531 -5.953125 1.816406 -5.8125 1.578125 -5.53125 C 1.335938 -5.257812 1.21875 -4.890625 1.21875 -4.421875 C 1.21875 -3.984375 1.320312 -3.632812 1.53125 -3.375 C 1.75 -3.125 2.085938 -3 2.546875 -3 Z \"/>\n",
       "</symbol>\n",
       "<symbol overflow=\"visible\" id=\"glyph0-7\">\n",
       "<path style=\"stroke:none;\" d=\"M 2.484375 0.1875 C 1.691406 0.1875 1.117188 -0.03125 0.765625 -0.46875 C 0.410156 -0.90625 0.234375 -1.4375 0.234375 -2.0625 L 1.109375 -2.0625 C 1.148438 -1.625 1.234375 -1.304688 1.359375 -1.109375 C 1.578125 -0.753906 1.96875 -0.578125 2.53125 -0.578125 C 2.976562 -0.578125 3.335938 -0.695312 3.609375 -0.9375 C 3.878906 -1.175781 4.015625 -1.484375 4.015625 -1.859375 C 4.015625 -2.316406 3.867188 -2.640625 3.578125 -2.828125 C 3.296875 -3.015625 2.90625 -3.109375 2.40625 -3.109375 C 2.351562 -3.109375 2.296875 -3.101562 2.234375 -3.09375 C 2.179688 -3.09375 2.125 -3.09375 2.0625 -3.09375 L 2.0625 -3.84375 C 2.144531 -3.832031 2.21875 -3.820312 2.28125 -3.8125 C 2.34375 -3.8125 2.40625 -3.8125 2.46875 -3.8125 C 2.789062 -3.8125 3.050781 -3.863281 3.25 -3.96875 C 3.601562 -4.144531 3.78125 -4.457031 3.78125 -4.90625 C 3.78125 -5.238281 3.660156 -5.492188 3.421875 -5.671875 C 3.191406 -5.859375 2.914062 -5.953125 2.59375 -5.953125 C 2.03125 -5.953125 1.644531 -5.765625 1.4375 -5.390625 C 1.3125 -5.179688 1.242188 -4.882812 1.234375 -4.5 L 0.390625 -4.5 C 0.390625 -5 0.492188 -5.425781 0.703125 -5.78125 C 1.046875 -6.40625 1.648438 -6.71875 2.515625 -6.71875 C 3.191406 -6.71875 3.71875 -6.5625 4.09375 -6.25 C 4.46875 -5.945312 4.65625 -5.507812 4.65625 -4.9375 C 4.65625 -4.519531 4.546875 -4.1875 4.328125 -3.9375 C 4.191406 -3.78125 4.015625 -3.65625 3.796875 -3.5625 C 4.148438 -3.46875 4.425781 -3.28125 4.625 -3 C 4.820312 -2.71875 4.921875 -2.378906 4.921875 -1.984375 C 4.921875 -1.347656 4.707031 -0.828125 4.28125 -0.421875 C 3.863281 -0.015625 3.265625 0.1875 2.484375 0.1875 Z \"/>\n",
       "</symbol>\n",
       "<symbol overflow=\"visible\" id=\"glyph0-8\">\n",
       "<path style=\"stroke:none;\" d=\"M 3.171875 -2.375 L 3.171875 -5.421875 L 1.015625 -2.375 Z M 3.1875 0 L 3.1875 -1.640625 L 0.25 -1.640625 L 0.25 -2.46875 L 3.3125 -6.734375 L 4.03125 -6.734375 L 4.03125 -2.375 L 5.015625 -2.375 L 5.015625 -1.640625 L 4.03125 -1.640625 L 4.03125 0 Z \"/>\n",
       "</symbol>\n",
       "<symbol overflow=\"visible\" id=\"glyph0-9\">\n",
       "<path style=\"stroke:none;\" d=\"M 1.1875 -1.703125 C 1.238281 -1.222656 1.460938 -0.894531 1.859375 -0.71875 C 2.054688 -0.625 2.285156 -0.578125 2.546875 -0.578125 C 3.046875 -0.578125 3.414062 -0.734375 3.65625 -1.046875 C 3.894531 -1.367188 4.015625 -1.722656 4.015625 -2.109375 C 4.015625 -2.578125 3.867188 -2.9375 3.578125 -3.1875 C 3.296875 -3.445312 2.957031 -3.578125 2.5625 -3.578125 C 2.269531 -3.578125 2.019531 -3.519531 1.8125 -3.40625 C 1.601562 -3.289062 1.425781 -3.132812 1.28125 -2.9375 L 0.546875 -2.984375 L 1.0625 -6.59375 L 4.546875 -6.59375 L 4.546875 -5.78125 L 1.703125 -5.78125 L 1.40625 -3.921875 C 1.5625 -4.035156 1.710938 -4.125 1.859375 -4.1875 C 2.109375 -4.289062 2.394531 -4.34375 2.71875 -4.34375 C 3.332031 -4.34375 3.851562 -4.140625 4.28125 -3.734375 C 4.707031 -3.335938 4.921875 -2.835938 4.921875 -2.234375 C 4.921875 -1.597656 4.722656 -1.035156 4.328125 -0.546875 C 3.941406 -0.0664062 3.320312 0.171875 2.46875 0.171875 C 1.914062 0.171875 1.429688 0.0195312 1.015625 -0.28125 C 0.597656 -0.59375 0.363281 -1.066406 0.3125 -1.703125 Z \"/>\n",
       "</symbol>\n",
       "<symbol overflow=\"visible\" id=\"glyph1-0\">\n",
       "<path style=\"stroke:none;\" d=\"M 0.390625 0 L 0.390625 -8.609375 L 7.21875 -8.609375 L 7.21875 0 Z M 6.140625 -1.078125 L 6.140625 -7.53125 L 1.46875 -7.53125 L 1.46875 -1.078125 Z \"/>\n",
       "</symbol>\n",
       "<symbol overflow=\"visible\" id=\"glyph1-1\">\n",
       "<path style=\"stroke:none;\" d=\"M 4.6875 -6.28125 L 5.859375 -6.28125 C 5.710938 -5.875 5.382812 -4.953125 4.875 -3.515625 C 4.488281 -2.441406 4.164062 -1.566406 3.90625 -0.890625 C 3.300781 0.710938 2.875 1.691406 2.625 2.046875 C 2.375 2.398438 1.941406 2.578125 1.328125 2.578125 C 1.179688 2.578125 1.066406 2.566406 0.984375 2.546875 C 0.910156 2.535156 0.8125 2.515625 0.6875 2.484375 L 0.6875 1.53125 C 0.875 1.582031 1.007812 1.613281 1.09375 1.625 C 1.175781 1.632812 1.25 1.640625 1.3125 1.640625 C 1.5 1.640625 1.640625 1.609375 1.734375 1.546875 C 1.828125 1.484375 1.90625 1.40625 1.96875 1.3125 C 1.988281 1.28125 2.054688 1.117188 2.171875 0.828125 C 2.296875 0.535156 2.382812 0.320312 2.4375 0.1875 L 0.125 -6.28125 L 1.3125 -6.28125 L 3 -1.171875 Z M 3 -6.421875 Z \"/>\n",
       "</symbol>\n",
       "<symbol overflow=\"visible\" id=\"glyph1-2\">\n",
       "<path style=\"stroke:none;\" d=\"M 3.390625 -6.421875 C 3.835938 -6.421875 4.269531 -6.316406 4.6875 -6.109375 C 5.101562 -5.898438 5.421875 -5.628906 5.640625 -5.296875 C 5.847656 -4.972656 5.988281 -4.601562 6.0625 -4.1875 C 6.125 -3.894531 6.15625 -3.429688 6.15625 -2.796875 L 1.546875 -2.796875 C 1.566406 -2.160156 1.71875 -1.648438 2 -1.265625 C 2.28125 -0.878906 2.71875 -0.6875 3.3125 -0.6875 C 3.863281 -0.6875 4.300781 -0.867188 4.625 -1.234375 C 4.8125 -1.441406 4.945312 -1.6875 5.03125 -1.96875 L 6.0625 -1.96875 C 6.039062 -1.738281 5.953125 -1.484375 5.796875 -1.203125 C 5.640625 -0.921875 5.46875 -0.6875 5.28125 -0.5 C 4.957031 -0.1875 4.554688 0.0195312 4.078125 0.125 C 3.828125 0.1875 3.539062 0.21875 3.21875 0.21875 C 2.4375 0.21875 1.773438 -0.0625 1.234375 -0.625 C 0.691406 -1.195312 0.421875 -1.992188 0.421875 -3.015625 C 0.421875 -4.023438 0.691406 -4.84375 1.234375 -5.46875 C 1.785156 -6.101562 2.503906 -6.421875 3.390625 -6.421875 Z M 5.0625 -3.640625 C 5.019531 -4.097656 4.921875 -4.460938 4.765625 -4.734375 C 4.484375 -5.242188 4.003906 -5.5 3.328125 -5.5 C 2.835938 -5.5 2.425781 -5.320312 2.09375 -4.96875 C 1.769531 -4.625 1.597656 -4.179688 1.578125 -3.640625 Z M 3.28125 -6.421875 Z \"/>\n",
       "</symbol>\n",
       "<symbol overflow=\"visible\" id=\"glyph1-3\">\n",
       "<path style=\"stroke:none;\" d=\"M 1.578125 -1.671875 C 1.578125 -1.367188 1.6875 -1.128906 1.90625 -0.953125 C 2.132812 -0.773438 2.398438 -0.6875 2.703125 -0.6875 C 3.078125 -0.6875 3.4375 -0.769531 3.78125 -0.9375 C 4.375 -1.226562 4.671875 -1.695312 4.671875 -2.34375 L 4.671875 -3.1875 C 4.535156 -3.113281 4.363281 -3.046875 4.15625 -2.984375 C 3.957031 -2.929688 3.757812 -2.894531 3.5625 -2.875 L 2.9375 -2.796875 C 2.550781 -2.742188 2.257812 -2.660156 2.0625 -2.546875 C 1.738281 -2.367188 1.578125 -2.078125 1.578125 -1.671875 Z M 4.140625 -3.796875 C 4.378906 -3.828125 4.539062 -3.929688 4.625 -4.109375 C 4.664062 -4.203125 4.6875 -4.335938 4.6875 -4.515625 C 4.6875 -4.867188 4.554688 -5.125 4.296875 -5.28125 C 4.046875 -5.445312 3.6875 -5.53125 3.21875 -5.53125 C 2.664062 -5.53125 2.273438 -5.382812 2.046875 -5.09375 C 1.910156 -4.925781 1.820312 -4.679688 1.78125 -4.359375 L 0.796875 -4.359375 C 0.816406 -5.128906 1.066406 -5.664062 1.546875 -5.96875 C 2.035156 -6.269531 2.597656 -6.421875 3.234375 -6.421875 C 3.972656 -6.421875 4.570312 -6.28125 5.03125 -6 C 5.488281 -5.71875 5.71875 -5.28125 5.71875 -4.6875 L 5.71875 -1.078125 C 5.71875 -0.972656 5.738281 -0.882812 5.78125 -0.8125 C 5.832031 -0.75 5.929688 -0.71875 6.078125 -0.71875 C 6.117188 -0.71875 6.164062 -0.71875 6.21875 -0.71875 C 6.28125 -0.726562 6.347656 -0.738281 6.421875 -0.75 L 6.421875 0.03125 C 6.253906 0.0703125 6.125 0.0976562 6.03125 0.109375 C 5.945312 0.128906 5.832031 0.140625 5.6875 0.140625 C 5.320312 0.140625 5.0625 0.0078125 4.90625 -0.25 C 4.8125 -0.382812 4.75 -0.578125 4.71875 -0.828125 C 4.5 -0.546875 4.1875 -0.300781 3.78125 -0.09375 C 3.382812 0.113281 2.945312 0.21875 2.46875 0.21875 C 1.882812 0.21875 1.40625 0.0390625 1.03125 -0.3125 C 0.664062 -0.664062 0.484375 -1.109375 0.484375 -1.640625 C 0.484375 -2.222656 0.664062 -2.675781 1.03125 -3 C 1.394531 -3.320312 1.867188 -3.519531 2.453125 -3.59375 Z M 3.265625 -6.421875 Z \"/>\n",
       "</symbol>\n",
       "<symbol overflow=\"visible\" id=\"glyph1-4\">\n",
       "<path style=\"stroke:none;\" d=\"M 0.796875 -6.28125 L 1.8125 -6.28125 L 1.8125 -5.1875 C 1.882812 -5.40625 2.082031 -5.664062 2.40625 -5.96875 C 2.726562 -6.269531 3.097656 -6.421875 3.515625 -6.421875 C 3.535156 -6.421875 3.566406 -6.414062 3.609375 -6.40625 C 3.660156 -6.40625 3.742188 -6.398438 3.859375 -6.390625 L 3.859375 -5.28125 C 3.796875 -5.289062 3.738281 -5.296875 3.6875 -5.296875 C 3.632812 -5.296875 3.578125 -5.296875 3.515625 -5.296875 C 2.984375 -5.296875 2.570312 -5.125 2.28125 -4.78125 C 2 -4.445312 1.859375 -4.054688 1.859375 -3.609375 L 1.859375 0 L 0.796875 0 Z \"/>\n",
       "</symbol>\n",
       "<symbol overflow=\"visible\" id=\"glyph2-0\">\n",
       "<path style=\"stroke:none;\" d=\"M 0 -0.390625 L -8.609375 -0.390625 L -8.609375 -7.21875 L 0 -7.21875 Z M -1.078125 -6.140625 L -7.53125 -6.140625 L -7.53125 -1.46875 L -1.078125 -1.46875 Z \"/>\n",
       "</symbol>\n",
       "<symbol overflow=\"visible\" id=\"glyph2-1\">\n",
       "<path style=\"stroke:none;\" d=\"M -6.453125 -3.1875 C -6.453125 -3.894531 -6.28125 -4.46875 -5.9375 -4.90625 C -5.59375 -5.351562 -5.003906 -5.625 -4.171875 -5.71875 L -4.171875 -4.6875 C -4.554688 -4.625 -4.875 -4.484375 -5.125 -4.265625 C -5.382812 -4.046875 -5.515625 -3.6875 -5.515625 -3.1875 C -5.515625 -2.519531 -5.1875 -2.039062 -4.53125 -1.75 C -4.101562 -1.5625 -3.578125 -1.46875 -2.953125 -1.46875 C -2.328125 -1.46875 -1.796875 -1.597656 -1.359375 -1.859375 C -0.929688 -2.128906 -0.71875 -2.550781 -0.71875 -3.125 C -0.71875 -3.5625 -0.851562 -3.90625 -1.125 -4.15625 C -1.394531 -4.414062 -1.757812 -4.59375 -2.21875 -4.6875 L -2.21875 -5.71875 C -1.382812 -5.601562 -0.773438 -5.3125 -0.390625 -4.84375 C -0.00390625 -4.375 0.1875 -3.773438 0.1875 -3.046875 C 0.1875 -2.222656 -0.113281 -1.566406 -0.71875 -1.078125 C -1.320312 -0.585938 -2.070312 -0.34375 -2.96875 -0.34375 C -4.070312 -0.34375 -4.925781 -0.609375 -5.53125 -1.140625 C -6.144531 -1.679688 -6.453125 -2.363281 -6.453125 -3.1875 Z M -6.421875 -3.03125 Z \"/>\n",
       "</symbol>\n",
       "<symbol overflow=\"visible\" id=\"glyph2-2\">\n",
       "<path style=\"stroke:none;\" d=\"M -6.25 -0.78125 L -6.25 -1.84375 L 0 -1.84375 L 0 -0.78125 Z M -8.609375 -0.78125 L -8.609375 -1.84375 L -7.40625 -1.84375 L -7.40625 -0.78125 Z \"/>\n",
       "</symbol>\n",
       "<symbol overflow=\"visible\" id=\"glyph2-3\">\n",
       "<path style=\"stroke:none;\" d=\"M -8.03125 -0.984375 L -8.03125 -2.046875 L -6.28125 -2.046875 L -6.28125 -3.046875 L -5.421875 -3.046875 L -5.421875 -2.046875 L -1.3125 -2.046875 C -1.09375 -2.046875 -0.945312 -2.125 -0.875 -2.28125 C -0.832031 -2.351562 -0.8125 -2.488281 -0.8125 -2.6875 C -0.8125 -2.738281 -0.8125 -2.789062 -0.8125 -2.84375 C -0.820312 -2.90625 -0.828125 -2.972656 -0.828125 -3.046875 L 0 -3.046875 C 0.03125 -2.929688 0.0507812 -2.804688 0.0625 -2.671875 C 0.0820312 -2.546875 0.09375 -2.40625 0.09375 -2.25 C 0.09375 -1.757812 -0.03125 -1.425781 -0.28125 -1.25 C -0.53125 -1.070312 -0.859375 -0.984375 -1.265625 -0.984375 L -5.421875 -0.984375 L -5.421875 -0.140625 L -6.28125 -0.140625 L -6.28125 -0.984375 Z \"/>\n",
       "</symbol>\n",
       "<symbol overflow=\"visible\" id=\"glyph2-4\">\n",
       "<path style=\"stroke:none;\" d=\"M -6.421875 -3.390625 C -6.421875 -3.835938 -6.316406 -4.269531 -6.109375 -4.6875 C -5.898438 -5.101562 -5.628906 -5.421875 -5.296875 -5.640625 C -4.972656 -5.847656 -4.601562 -5.988281 -4.1875 -6.0625 C -3.894531 -6.125 -3.429688 -6.15625 -2.796875 -6.15625 L -2.796875 -1.546875 C -2.160156 -1.566406 -1.648438 -1.71875 -1.265625 -2 C -0.878906 -2.28125 -0.6875 -2.71875 -0.6875 -3.3125 C -0.6875 -3.863281 -0.867188 -4.300781 -1.234375 -4.625 C -1.441406 -4.8125 -1.6875 -4.945312 -1.96875 -5.03125 L -1.96875 -6.0625 C -1.738281 -6.039062 -1.484375 -5.953125 -1.203125 -5.796875 C -0.921875 -5.640625 -0.6875 -5.46875 -0.5 -5.28125 C -0.1875 -4.957031 0.0195312 -4.554688 0.125 -4.078125 C 0.1875 -3.828125 0.21875 -3.539062 0.21875 -3.21875 C 0.21875 -2.4375 -0.0625 -1.773438 -0.625 -1.234375 C -1.195312 -0.691406 -1.992188 -0.421875 -3.015625 -0.421875 C -4.023438 -0.421875 -4.84375 -0.691406 -5.46875 -1.234375 C -6.101562 -1.785156 -6.421875 -2.503906 -6.421875 -3.390625 Z M -3.640625 -5.0625 C -4.097656 -5.019531 -4.460938 -4.921875 -4.734375 -4.765625 C -5.242188 -4.484375 -5.5 -4.003906 -5.5 -3.328125 C -5.5 -2.835938 -5.320312 -2.425781 -4.96875 -2.09375 C -4.625 -1.769531 -4.179688 -1.597656 -3.640625 -1.578125 Z M -6.421875 -3.28125 Z \"/>\n",
       "</symbol>\n",
       "<symbol overflow=\"visible\" id=\"glyph2-5\">\n",
       "<path style=\"stroke:none;\" d=\"M -1.96875 -1.40625 C -1.613281 -1.4375 -1.34375 -1.523438 -1.15625 -1.671875 C -0.820312 -1.929688 -0.65625 -2.390625 -0.65625 -3.046875 C -0.65625 -3.441406 -0.738281 -3.785156 -0.90625 -4.078125 C -1.070312 -4.378906 -1.332031 -4.53125 -1.6875 -4.53125 C -1.957031 -4.53125 -2.164062 -4.410156 -2.3125 -4.171875 C -2.394531 -4.015625 -2.492188 -3.710938 -2.609375 -3.265625 L -2.8125 -2.421875 C -2.945312 -1.890625 -3.097656 -1.5 -3.265625 -1.25 C -3.546875 -0.789062 -3.941406 -0.5625 -4.453125 -0.5625 C -5.046875 -0.5625 -5.523438 -0.773438 -5.890625 -1.203125 C -6.253906 -1.628906 -6.4375 -2.207031 -6.4375 -2.9375 C -6.4375 -3.875 -6.160156 -4.550781 -5.609375 -4.96875 C -5.253906 -5.238281 -4.875 -5.367188 -4.46875 -5.359375 L -4.46875 -4.359375 C -4.707031 -4.335938 -4.925781 -4.253906 -5.125 -4.109375 C -5.394531 -3.867188 -5.53125 -3.445312 -5.53125 -2.84375 C -5.53125 -2.445312 -5.453125 -2.144531 -5.296875 -1.9375 C -5.148438 -1.738281 -4.953125 -1.640625 -4.703125 -1.640625 C -4.429688 -1.640625 -4.210938 -1.773438 -4.046875 -2.046875 C -3.953125 -2.203125 -3.867188 -2.429688 -3.796875 -2.734375 L -3.625 -3.421875 C -3.4375 -4.179688 -3.257812 -4.691406 -3.09375 -4.953125 C -2.820312 -5.359375 -2.394531 -5.5625 -1.8125 -5.5625 C -1.257812 -5.5625 -0.78125 -5.347656 -0.375 -4.921875 C 0.03125 -4.503906 0.234375 -3.863281 0.234375 -3 C 0.234375 -2.0625 0.0234375 -1.394531 -0.390625 -1 C -0.816406 -0.613281 -1.34375 -0.410156 -1.96875 -0.390625 Z M -6.421875 -2.953125 Z \"/>\n",
       "</symbol>\n",
       "</g>\n",
       "<clipPath id=\"clip1\">\n",
       "  <path d=\"M 51.4375 14.398438 L 346 14.398438 L 346 180 L 51.4375 180 Z \"/>\n",
       "</clipPath>\n",
       "<clipPath id=\"clip2\">\n",
       "  <path d=\"M 51.4375 142 L 346 142 L 346 144 L 51.4375 144 Z \"/>\n",
       "</clipPath>\n",
       "<clipPath id=\"clip3\">\n",
       "  <path d=\"M 51.4375 85 L 346 85 L 346 86 L 51.4375 86 Z \"/>\n",
       "</clipPath>\n",
       "<clipPath id=\"clip4\">\n",
       "  <path d=\"M 51.4375 27 L 346 27 L 346 29 L 51.4375 29 Z \"/>\n",
       "</clipPath>\n",
       "<clipPath id=\"clip5\">\n",
       "  <path d=\"M 51.4375 171 L 346.597656 171 L 346.597656 173 L 51.4375 173 Z \"/>\n",
       "</clipPath>\n",
       "<clipPath id=\"clip6\">\n",
       "  <path d=\"M 51.4375 113 L 346.597656 113 L 346.597656 115 L 51.4375 115 Z \"/>\n",
       "</clipPath>\n",
       "<clipPath id=\"clip7\">\n",
       "  <path d=\"M 51.4375 56 L 346.597656 56 L 346.597656 58 L 51.4375 58 Z \"/>\n",
       "</clipPath>\n",
       "<clipPath id=\"clip8\">\n",
       "  <path d=\"M 70 14.398438 L 72 14.398438 L 72 180 L 70 180 Z \"/>\n",
       "</clipPath>\n",
       "<clipPath id=\"clip9\">\n",
       "  <path d=\"M 102 14.398438 L 104 14.398438 L 104 180 L 102 180 Z \"/>\n",
       "</clipPath>\n",
       "<clipPath id=\"clip10\">\n",
       "  <path d=\"M 134 14.398438 L 136 14.398438 L 136 180 L 134 180 Z \"/>\n",
       "</clipPath>\n",
       "<clipPath id=\"clip11\">\n",
       "  <path d=\"M 166 14.398438 L 168 14.398438 L 168 180 L 166 180 Z \"/>\n",
       "</clipPath>\n",
       "<clipPath id=\"clip12\">\n",
       "  <path d=\"M 197 14.398438 L 200 14.398438 L 200 180 L 197 180 Z \"/>\n",
       "</clipPath>\n",
       "<clipPath id=\"clip13\">\n",
       "  <path d=\"M 229 14.398438 L 232 14.398438 L 232 180 L 229 180 Z \"/>\n",
       "</clipPath>\n",
       "<clipPath id=\"clip14\">\n",
       "  <path d=\"M 261 14.398438 L 263 14.398438 L 263 180 L 261 180 Z \"/>\n",
       "</clipPath>\n",
       "<clipPath id=\"clip15\">\n",
       "  <path d=\"M 293 14.398438 L 295 14.398438 L 295 180 L 293 180 Z \"/>\n",
       "</clipPath>\n",
       "<clipPath id=\"clip16\">\n",
       "  <path d=\"M 325 14.398438 L 327 14.398438 L 327 180 L 325 180 Z \"/>\n",
       "</clipPath>\n",
       "</defs>\n",
       "<g id=\"surface21\">\n",
       "<rect x=\"0\" y=\"0\" width=\"360\" height=\"216\" style=\"fill:rgb(100%,100%,100%);fill-opacity:1;stroke:none;\"/>\n",
       "<rect x=\"0\" y=\"0\" width=\"360\" height=\"216\" style=\"fill:rgb(100%,100%,100%);fill-opacity:1;stroke:none;\"/>\n",
       "<path style=\"fill:none;stroke-width:1.062992;stroke-linecap:round;stroke-linejoin:round;stroke:rgb(100%,100%,100%);stroke-opacity:1;stroke-miterlimit:10;\" d=\"M 0 216 L 360 216 L 360 0 L 0 0 Z \"/>\n",
       "<g clip-path=\"url(#clip1)\" clip-rule=\"nonzero\">\n",
       "<path style=\" stroke:none;fill-rule:nonzero;fill:rgb(89.803922%,89.803922%,89.803922%);fill-opacity:1;\" d=\"M 51.4375 179.027344 L 345.597656 179.027344 L 345.597656 14.398438 L 51.4375 14.398438 Z \"/>\n",
       "</g>\n",
       "<g clip-path=\"url(#clip2)\" clip-rule=\"nonzero\">\n",
       "<path style=\"fill:none;stroke-width:0.531496;stroke-linecap:butt;stroke-linejoin:round;stroke:rgb(94.901961%,94.901961%,94.901961%);stroke-opacity:1;stroke-miterlimit:10;\" d=\"M 51.4375 142.808594 L 345.601562 142.808594 \"/>\n",
       "</g>\n",
       "<g clip-path=\"url(#clip3)\" clip-rule=\"nonzero\">\n",
       "<path style=\"fill:none;stroke-width:0.531496;stroke-linecap:butt;stroke-linejoin:round;stroke:rgb(94.901961%,94.901961%,94.901961%);stroke-opacity:1;stroke-miterlimit:10;\" d=\"M 51.4375 85.335938 L 345.601562 85.335938 \"/>\n",
       "</g>\n",
       "<g clip-path=\"url(#clip4)\" clip-rule=\"nonzero\">\n",
       "<path style=\"fill:none;stroke-width:0.531496;stroke-linecap:butt;stroke-linejoin:round;stroke:rgb(94.901961%,94.901961%,94.901961%);stroke-opacity:1;stroke-miterlimit:10;\" d=\"M 51.4375 27.859375 L 345.601562 27.859375 \"/>\n",
       "</g>\n",
       "<g clip-path=\"url(#clip5)\" clip-rule=\"nonzero\">\n",
       "<path style=\"fill:none;stroke-width:1.062992;stroke-linecap:butt;stroke-linejoin:round;stroke:rgb(100%,100%,100%);stroke-opacity:1;stroke-miterlimit:10;\" d=\"M 51.4375 171.546875 L 345.601562 171.546875 \"/>\n",
       "</g>\n",
       "<g clip-path=\"url(#clip6)\" clip-rule=\"nonzero\">\n",
       "<path style=\"fill:none;stroke-width:1.062992;stroke-linecap:butt;stroke-linejoin:round;stroke:rgb(100%,100%,100%);stroke-opacity:1;stroke-miterlimit:10;\" d=\"M 51.4375 114.070312 L 345.601562 114.070312 \"/>\n",
       "</g>\n",
       "<g clip-path=\"url(#clip7)\" clip-rule=\"nonzero\">\n",
       "<path style=\"fill:none;stroke-width:1.062992;stroke-linecap:butt;stroke-linejoin:round;stroke:rgb(100%,100%,100%);stroke-opacity:1;stroke-miterlimit:10;\" d=\"M 51.4375 56.597656 L 345.601562 56.597656 \"/>\n",
       "</g>\n",
       "<g clip-path=\"url(#clip8)\" clip-rule=\"nonzero\">\n",
       "<path style=\"fill:none;stroke-width:1.062992;stroke-linecap:butt;stroke-linejoin:round;stroke:rgb(100%,100%,100%);stroke-opacity:1;stroke-miterlimit:10;\" d=\"M 70.621094 179.027344 L 70.621094 14.398438 \"/>\n",
       "</g>\n",
       "<g clip-path=\"url(#clip9)\" clip-rule=\"nonzero\">\n",
       "<path style=\"fill:none;stroke-width:1.062992;stroke-linecap:butt;stroke-linejoin:round;stroke:rgb(100%,100%,100%);stroke-opacity:1;stroke-miterlimit:10;\" d=\"M 102.597656 179.027344 L 102.597656 14.398438 \"/>\n",
       "</g>\n",
       "<g clip-path=\"url(#clip10)\" clip-rule=\"nonzero\">\n",
       "<path style=\"fill:none;stroke-width:1.062992;stroke-linecap:butt;stroke-linejoin:round;stroke:rgb(100%,100%,100%);stroke-opacity:1;stroke-miterlimit:10;\" d=\"M 134.570312 179.027344 L 134.570312 14.398438 \"/>\n",
       "</g>\n",
       "<g clip-path=\"url(#clip11)\" clip-rule=\"nonzero\">\n",
       "<path style=\"fill:none;stroke-width:1.062992;stroke-linecap:butt;stroke-linejoin:round;stroke:rgb(100%,100%,100%);stroke-opacity:1;stroke-miterlimit:10;\" d=\"M 166.546875 179.027344 L 166.546875 14.398438 \"/>\n",
       "</g>\n",
       "<g clip-path=\"url(#clip12)\" clip-rule=\"nonzero\">\n",
       "<path style=\"fill:none;stroke-width:1.062992;stroke-linecap:butt;stroke-linejoin:round;stroke:rgb(100%,100%,100%);stroke-opacity:1;stroke-miterlimit:10;\" d=\"M 198.519531 179.027344 L 198.519531 14.398438 \"/>\n",
       "</g>\n",
       "<g clip-path=\"url(#clip13)\" clip-rule=\"nonzero\">\n",
       "<path style=\"fill:none;stroke-width:1.062992;stroke-linecap:butt;stroke-linejoin:round;stroke:rgb(100%,100%,100%);stroke-opacity:1;stroke-miterlimit:10;\" d=\"M 230.492188 179.027344 L 230.492188 14.398438 \"/>\n",
       "</g>\n",
       "<g clip-path=\"url(#clip14)\" clip-rule=\"nonzero\">\n",
       "<path style=\"fill:none;stroke-width:1.062992;stroke-linecap:butt;stroke-linejoin:round;stroke:rgb(100%,100%,100%);stroke-opacity:1;stroke-miterlimit:10;\" d=\"M 262.46875 179.027344 L 262.46875 14.398438 \"/>\n",
       "</g>\n",
       "<g clip-path=\"url(#clip15)\" clip-rule=\"nonzero\">\n",
       "<path style=\"fill:none;stroke-width:1.062992;stroke-linecap:butt;stroke-linejoin:round;stroke:rgb(100%,100%,100%);stroke-opacity:1;stroke-miterlimit:10;\" d=\"M 294.441406 179.027344 L 294.441406 14.398438 \"/>\n",
       "</g>\n",
       "<g clip-path=\"url(#clip16)\" clip-rule=\"nonzero\">\n",
       "<path style=\"fill:none;stroke-width:1.062992;stroke-linecap:butt;stroke-linejoin:round;stroke:rgb(100%,100%,100%);stroke-opacity:1;stroke-miterlimit:10;\" d=\"M 326.414062 179.027344 L 326.414062 14.398438 \"/>\n",
       "</g>\n",
       "<path style=\" stroke:none;fill-rule:nonzero;fill:rgb(20%,20%,20%);fill-opacity:1;\" d=\"M 56.234375 171.546875 L 85.011719 171.546875 L 85.011719 109.53125 L 56.234375 109.53125 Z \"/>\n",
       "<path style=\" stroke:none;fill-rule:nonzero;fill:rgb(20%,20%,20%);fill-opacity:1;\" d=\"M 88.207031 171.546875 L 116.984375 171.546875 L 116.984375 92.117188 L 88.207031 92.117188 Z \"/>\n",
       "<path style=\" stroke:none;fill-rule:nonzero;fill:rgb(20%,20%,20%);fill-opacity:1;\" d=\"M 120.183594 171.546875 L 148.960938 171.546875 L 148.960938 95.679688 L 120.183594 95.679688 Z \"/>\n",
       "<path style=\" stroke:none;fill-rule:nonzero;fill:rgb(20%,20%,20%);fill-opacity:1;\" d=\"M 152.15625 171.546875 L 180.933594 171.546875 L 180.933594 81.082031 L 152.15625 81.082031 Z \"/>\n",
       "<path style=\" stroke:none;fill-rule:nonzero;fill:rgb(20%,20%,20%);fill-opacity:1;\" d=\"M 184.128906 171.546875 L 212.90625 171.546875 L 212.90625 81.65625 L 184.128906 81.65625 Z \"/>\n",
       "<path style=\" stroke:none;fill-rule:nonzero;fill:rgb(20%,20%,20%);fill-opacity:1;\" d=\"M 216.105469 171.546875 L 244.882812 171.546875 L 244.882812 75.507812 L 216.105469 75.507812 Z \"/>\n",
       "<path style=\" stroke:none;fill-rule:nonzero;fill:rgb(20%,20%,20%);fill-opacity:1;\" d=\"M 248.078125 171.546875 L 276.855469 171.546875 L 276.855469 21.882812 L 248.078125 21.882812 Z \"/>\n",
       "<path style=\" stroke:none;fill-rule:nonzero;fill:rgb(20%,20%,20%);fill-opacity:1;\" d=\"M 280.054688 171.546875 L 308.832031 171.546875 L 308.832031 45.5625 L 280.054688 45.5625 Z \"/>\n",
       "<path style=\" stroke:none;fill-rule:nonzero;fill:rgb(20%,20%,20%);fill-opacity:1;\" d=\"M 312.027344 171.546875 L 340.804688 171.546875 L 340.804688 75.046875 L 312.027344 75.046875 Z \"/>\n",
       "<g style=\"fill:rgb(49.803922%,49.803922%,49.803922%);fill-opacity:1;\">\n",
       "  <use xlink:href=\"#glyph0-1\" x=\"39.015625\" y=\"174.984375\"/>\n",
       "</g>\n",
       "<g style=\"fill:rgb(49.803922%,49.803922%,49.803922%);fill-opacity:1;\">\n",
       "  <use xlink:href=\"#glyph0-2\" x=\"23.007812\" y=\"117.507812\"/>\n",
       "  <use xlink:href=\"#glyph0-1\" x=\"28.343399\" y=\"117.507812\"/>\n",
       "  <use xlink:href=\"#glyph0-1\" x=\"33.678986\" y=\"117.507812\"/>\n",
       "  <use xlink:href=\"#glyph0-1\" x=\"39.014572\" y=\"117.507812\"/>\n",
       "</g>\n",
       "<g style=\"fill:rgb(49.803922%,49.803922%,49.803922%);fill-opacity:1;\">\n",
       "  <use xlink:href=\"#glyph0-3\" x=\"23.007812\" y=\"60.035156\"/>\n",
       "  <use xlink:href=\"#glyph0-1\" x=\"28.343399\" y=\"60.035156\"/>\n",
       "  <use xlink:href=\"#glyph0-1\" x=\"33.678986\" y=\"60.035156\"/>\n",
       "  <use xlink:href=\"#glyph0-1\" x=\"39.014572\" y=\"60.035156\"/>\n",
       "</g>\n",
       "<path style=\"fill:none;stroke-width:1.062992;stroke-linecap:butt;stroke-linejoin:round;stroke:rgb(49.803922%,49.803922%,49.803922%);stroke-opacity:1;stroke-miterlimit:10;\" d=\"M 47.1875 171.546875 L 51.4375 171.546875 \"/>\n",
       "<path style=\"fill:none;stroke-width:1.062992;stroke-linecap:butt;stroke-linejoin:round;stroke:rgb(49.803922%,49.803922%,49.803922%);stroke-opacity:1;stroke-miterlimit:10;\" d=\"M 47.1875 114.070312 L 51.4375 114.070312 \"/>\n",
       "<path style=\"fill:none;stroke-width:1.062992;stroke-linecap:butt;stroke-linejoin:round;stroke:rgb(49.803922%,49.803922%,49.803922%);stroke-opacity:1;stroke-miterlimit:10;\" d=\"M 47.1875 56.597656 L 51.4375 56.597656 \"/>\n",
       "<path style=\"fill:none;stroke-width:1.062992;stroke-linecap:butt;stroke-linejoin:round;stroke:rgb(49.803922%,49.803922%,49.803922%);stroke-opacity:1;stroke-miterlimit:10;\" d=\"M 70.621094 183.28125 L 70.621094 179.027344 \"/>\n",
       "<path style=\"fill:none;stroke-width:1.062992;stroke-linecap:butt;stroke-linejoin:round;stroke:rgb(49.803922%,49.803922%,49.803922%);stroke-opacity:1;stroke-miterlimit:10;\" d=\"M 102.597656 183.28125 L 102.597656 179.027344 \"/>\n",
       "<path style=\"fill:none;stroke-width:1.062992;stroke-linecap:butt;stroke-linejoin:round;stroke:rgb(49.803922%,49.803922%,49.803922%);stroke-opacity:1;stroke-miterlimit:10;\" d=\"M 134.570312 183.28125 L 134.570312 179.027344 \"/>\n",
       "<path style=\"fill:none;stroke-width:1.062992;stroke-linecap:butt;stroke-linejoin:round;stroke:rgb(49.803922%,49.803922%,49.803922%);stroke-opacity:1;stroke-miterlimit:10;\" d=\"M 166.546875 183.28125 L 166.546875 179.027344 \"/>\n",
       "<path style=\"fill:none;stroke-width:1.062992;stroke-linecap:butt;stroke-linejoin:round;stroke:rgb(49.803922%,49.803922%,49.803922%);stroke-opacity:1;stroke-miterlimit:10;\" d=\"M 198.519531 183.28125 L 198.519531 179.027344 \"/>\n",
       "<path style=\"fill:none;stroke-width:1.062992;stroke-linecap:butt;stroke-linejoin:round;stroke:rgb(49.803922%,49.803922%,49.803922%);stroke-opacity:1;stroke-miterlimit:10;\" d=\"M 230.492188 183.28125 L 230.492188 179.027344 \"/>\n",
       "<path style=\"fill:none;stroke-width:1.062992;stroke-linecap:butt;stroke-linejoin:round;stroke:rgb(49.803922%,49.803922%,49.803922%);stroke-opacity:1;stroke-miterlimit:10;\" d=\"M 262.46875 183.28125 L 262.46875 179.027344 \"/>\n",
       "<path style=\"fill:none;stroke-width:1.062992;stroke-linecap:butt;stroke-linejoin:round;stroke:rgb(49.803922%,49.803922%,49.803922%);stroke-opacity:1;stroke-miterlimit:10;\" d=\"M 294.441406 183.28125 L 294.441406 179.027344 \"/>\n",
       "<path style=\"fill:none;stroke-width:1.062992;stroke-linecap:butt;stroke-linejoin:round;stroke:rgb(49.803922%,49.803922%,49.803922%);stroke-opacity:1;stroke-miterlimit:10;\" d=\"M 326.414062 183.28125 L 326.414062 179.027344 \"/>\n",
       "<g style=\"fill:rgb(49.803922%,49.803922%,49.803922%);fill-opacity:1;\">\n",
       "  <use xlink:href=\"#glyph0-3\" x=\"59.949219\" y=\"192.992188\"/>\n",
       "  <use xlink:href=\"#glyph0-1\" x=\"65.284805\" y=\"192.992188\"/>\n",
       "  <use xlink:href=\"#glyph0-1\" x=\"70.620392\" y=\"192.992188\"/>\n",
       "  <use xlink:href=\"#glyph0-4\" x=\"75.955978\" y=\"192.992188\"/>\n",
       "</g>\n",
       "<g style=\"fill:rgb(49.803922%,49.803922%,49.803922%);fill-opacity:1;\">\n",
       "  <use xlink:href=\"#glyph0-3\" x=\"91.925781\" y=\"192.992188\"/>\n",
       "  <use xlink:href=\"#glyph0-1\" x=\"97.261368\" y=\"192.992188\"/>\n",
       "  <use xlink:href=\"#glyph0-1\" x=\"102.596954\" y=\"192.992188\"/>\n",
       "  <use xlink:href=\"#glyph0-5\" x=\"107.932541\" y=\"192.992188\"/>\n",
       "</g>\n",
       "<g style=\"fill:rgb(49.803922%,49.803922%,49.803922%);fill-opacity:1;\">\n",
       "  <use xlink:href=\"#glyph0-3\" x=\"123.898438\" y=\"192.992188\"/>\n",
       "  <use xlink:href=\"#glyph0-1\" x=\"129.234024\" y=\"192.992188\"/>\n",
       "  <use xlink:href=\"#glyph0-1\" x=\"134.569611\" y=\"192.992188\"/>\n",
       "  <use xlink:href=\"#glyph0-6\" x=\"139.905197\" y=\"192.992188\"/>\n",
       "</g>\n",
       "<g style=\"fill:rgb(49.803922%,49.803922%,49.803922%);fill-opacity:1;\">\n",
       "  <use xlink:href=\"#glyph0-3\" x=\"155.875\" y=\"192.992188\"/>\n",
       "  <use xlink:href=\"#glyph0-1\" x=\"161.210587\" y=\"192.992188\"/>\n",
       "  <use xlink:href=\"#glyph0-2\" x=\"166.546173\" y=\"192.992188\"/>\n",
       "  <use xlink:href=\"#glyph0-1\" x=\"171.88176\" y=\"192.992188\"/>\n",
       "</g>\n",
       "<g style=\"fill:rgb(49.803922%,49.803922%,49.803922%);fill-opacity:1;\">\n",
       "  <use xlink:href=\"#glyph0-3\" x=\"187.847656\" y=\"192.992188\"/>\n",
       "  <use xlink:href=\"#glyph0-1\" x=\"193.183243\" y=\"192.992188\"/>\n",
       "  <use xlink:href=\"#glyph0-2\" x=\"198.518829\" y=\"192.992188\"/>\n",
       "  <use xlink:href=\"#glyph0-2\" x=\"203.854416\" y=\"192.992188\"/>\n",
       "</g>\n",
       "<g style=\"fill:rgb(49.803922%,49.803922%,49.803922%);fill-opacity:1;\">\n",
       "  <use xlink:href=\"#glyph0-3\" x=\"219.820312\" y=\"192.992188\"/>\n",
       "  <use xlink:href=\"#glyph0-1\" x=\"225.155899\" y=\"192.992188\"/>\n",
       "  <use xlink:href=\"#glyph0-2\" x=\"230.491486\" y=\"192.992188\"/>\n",
       "  <use xlink:href=\"#glyph0-3\" x=\"235.827072\" y=\"192.992188\"/>\n",
       "</g>\n",
       "<g style=\"fill:rgb(49.803922%,49.803922%,49.803922%);fill-opacity:1;\">\n",
       "  <use xlink:href=\"#glyph0-3\" x=\"251.796875\" y=\"192.992188\"/>\n",
       "  <use xlink:href=\"#glyph0-1\" x=\"257.132462\" y=\"192.992188\"/>\n",
       "  <use xlink:href=\"#glyph0-2\" x=\"262.468048\" y=\"192.992188\"/>\n",
       "  <use xlink:href=\"#glyph0-7\" x=\"267.803635\" y=\"192.992188\"/>\n",
       "</g>\n",
       "<g style=\"fill:rgb(49.803922%,49.803922%,49.803922%);fill-opacity:1;\">\n",
       "  <use xlink:href=\"#glyph0-3\" x=\"283.769531\" y=\"192.992188\"/>\n",
       "  <use xlink:href=\"#glyph0-1\" x=\"289.105118\" y=\"192.992188\"/>\n",
       "  <use xlink:href=\"#glyph0-2\" x=\"294.440704\" y=\"192.992188\"/>\n",
       "  <use xlink:href=\"#glyph0-8\" x=\"299.776291\" y=\"192.992188\"/>\n",
       "</g>\n",
       "<g style=\"fill:rgb(49.803922%,49.803922%,49.803922%);fill-opacity:1;\">\n",
       "  <use xlink:href=\"#glyph0-3\" x=\"315.742188\" y=\"192.992188\"/>\n",
       "  <use xlink:href=\"#glyph0-1\" x=\"321.077774\" y=\"192.992188\"/>\n",
       "  <use xlink:href=\"#glyph0-2\" x=\"326.413361\" y=\"192.992188\"/>\n",
       "  <use xlink:href=\"#glyph0-9\" x=\"331.748947\" y=\"192.992188\"/>\n",
       "</g>\n",
       "<g style=\"fill:rgb(0%,0%,0%);fill-opacity:1;\">\n",
       "  <use xlink:href=\"#glyph1-1\" x=\"186.847656\" y=\"205.199219\"/>\n",
       "  <use xlink:href=\"#glyph1-2\" x=\"192.847656\" y=\"205.199219\"/>\n",
       "  <use xlink:href=\"#glyph1-3\" x=\"199.521484\" y=\"205.199219\"/>\n",
       "  <use xlink:href=\"#glyph1-4\" x=\"206.195312\" y=\"205.199219\"/>\n",
       "</g>\n",
       "<g style=\"fill:rgb(0%,0%,0%);fill-opacity:1;\">\n",
       "  <use xlink:href=\"#glyph2-1\" x=\"19.410156\" y=\"109.050781\"/>\n",
       "  <use xlink:href=\"#glyph2-2\" x=\"19.410156\" y=\"103.050781\"/>\n",
       "  <use xlink:href=\"#glyph2-3\" x=\"19.410156\" y=\"100.384766\"/>\n",
       "  <use xlink:href=\"#glyph2-4\" x=\"19.410156\" y=\"97.050781\"/>\n",
       "  <use xlink:href=\"#glyph2-5\" x=\"19.410156\" y=\"90.376953\"/>\n",
       "</g>\n",
       "</g>\n",
       "</svg>\n"
      ],
      "text/plain": [
       "plot without title"
      ]
     },
     "metadata": {
      "image/svg+xml": {
       "isolated": true
      }
     },
     "output_type": "display_data"
    }
   ],
   "source": [
    "#the two following lines just set a custom size for the plot, not necessary when running in R.\n",
    "options(repr.plot.width = 5) \n",
    "options(repr.plot.height = 3)\n",
    "\n",
    "library(ggplot2)\n",
    "\n",
    "#we want to make sure that the column year is a factor so that ggplot\n",
    "#doesn't treat it as a continuous variable (that would create missing ticks on the x-axis)\n",
    "history$year=as.factor(history$year)\n",
    "\n",
    "#set up plot in r \n",
    "histGraph=ggplot(data=history, aes(x=year, y=cites))\n",
    "\n",
    "#add layers of plot (here bars)\n",
    "histGraph=histGraph+geom_bar(stat='identity')\n",
    "\n",
    "#show basic graph\n",
    "histGraph"
   ]
  },
  {
   "cell_type": "code",
   "execution_count": null,
   "metadata": {
    "collapsed": true
   },
   "outputs": [],
   "source": [
    "jhgd"
   ]
  }
 ],
 "metadata": {
  "kernelspec": {
   "display_name": "R",
   "language": "R",
   "name": "ir"
  },
  "language_info": {
   "codemirror_mode": "r",
   "file_extension": ".r",
   "mimetype": "text/x-r-source",
   "name": "R",
   "pygments_lexer": "r",
   "version": "3.2.2"
  }
 },
 "nbformat": 4,
 "nbformat_minor": 0
}
